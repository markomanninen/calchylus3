{
 "cells": [
  {
   "cell_type": "markdown",
   "metadata": {},
   "source": [
    "# Test Calchylus 3 module\n",
    "\n",
    "### System settings"
   ]
  },
  {
   "cell_type": "code",
   "execution_count": 1,
   "metadata": {},
   "outputs": [
    {
     "name": "stdout",
     "output_type": "stream",
     "text": [
      "Python version: 3.6.1 |Anaconda 4.4.0 (64-bit)| (default, May 11 2017, 13:25:24) [MSC v.1900 64 bit (AMD64)]\n",
      "Hy version: 0.15.0\n",
      "Calchylus version: 0.1.4\n"
     ]
    },
    {
     "data": {
      "text/plain": [
       "[None, None, None, None, None, None]"
      ]
     },
     "execution_count": 1,
     "metadata": {},
     "output_type": "execute_result"
    }
   ],
   "source": [
    "(import sys hy calchylus3)\n",
    "\n",
    "(print 'Python 'version: sys.version)\n",
    "(print 'Hy 'version: hy.__version__)\n",
    "(print 'Calchylus 'version: calchylus3.__version__)\n",
    "\n",
    "(assert (= hy.__version__ \"0.15.0\"))\n",
    "(assert (= calchylus3.__version__ \"0.1.4\"))"
   ]
  },
  {
   "cell_type": "markdown",
   "metadata": {},
   "source": [
    "### Import calchylus 3"
   ]
  },
  {
   "cell_type": "code",
   "execution_count": 2,
   "metadata": {},
   "outputs": [
    {
     "data": {
      "text/plain": [
       "[None]"
      ]
     },
     "execution_count": 2,
     "metadata": {},
     "output_type": "execute_result"
    }
   ],
   "source": [
    "(require [calchylus3.lambdas [*]])"
   ]
  },
  {
   "cell_type": "markdown",
   "metadata": {},
   "source": [
    "### Initializers\n",
    "\n",
    "#### Without macros"
   ]
  },
  {
   "cell_type": "code",
   "execution_count": 3,
   "metadata": {},
   "outputs": [
    {
     "data": {
      "text/plain": [
       "[<function <lambda> at 0x0000013CD83D3950>, None, None, None]"
      ]
     },
     "execution_count": 3,
     "metadata": {},
     "output_type": "execute_result"
    }
   ],
   "source": [
    "; first parameter is the binder, second is the delimitter when printing a lambda form\n",
    "(without-macros λ \\.)\n",
    "; lambda function should be available now\n",
    "(assert (callable Function))\n",
    "; lambda form should be a callable function\n",
    "(assert (callable (λ x x)))\n",
    "; lambda form callable function string representation\n",
    "(assert (= (str (λ x x)) \"(λ x . x)\"))"
   ]
  },
  {
   "cell_type": "markdown",
   "metadata": {},
   "source": [
    "Initialize a new variable with a lambda function"
   ]
  },
  {
   "cell_type": "code",
   "execution_count": 4,
   "metadata": {},
   "outputs": [
    {
     "data": {
      "text/plain": [
       "[None, None, None, None, None]"
      ]
     },
     "execution_count": 4,
     "metadata": {},
     "output_type": "execute_result"
    }
   ],
   "source": [
    "(setv x (λ x x))\n",
    "(assert (callable x))\n",
    "(assert (= (str x) \"(λ x . x)\"))\n",
    "(assert (= (x 1) 1))\n",
    "; remove x from workspace from further disturbing lambda expression variables\n",
    "(del x)"
   ]
  },
  {
   "cell_type": "markdown",
   "metadata": {},
   "source": [
    "If function body uses a variable that is not defined as a function argument, then name error is thrown."
   ]
  },
  {
   "cell_type": "code",
   "execution_count": 5,
   "metadata": {},
   "outputs": [
    {
     "data": {
      "text/plain": [
       "[None]"
      ]
     },
     "execution_count": 5,
     "metadata": {},
     "output_type": "execute_result"
    }
   ],
   "source": [
    "(try\n",
    "  (λ x y)\n",
    "  (except [e NameError]\n",
    "    (assert (= (str (λ x 'y)) \"(λ x . y)\"))))"
   ]
  },
  {
   "cell_type": "markdown",
   "metadata": {},
   "source": [
    "Similar form with different variable names should return same value"
   ]
  },
  {
   "cell_type": "code",
   "execution_count": 6,
   "metadata": {},
   "outputs": [
    {
     "data": {
      "text/plain": [
       "[None, None, None]"
      ]
     },
     "execution_count": 6,
     "metadata": {},
     "output_type": "execute_result"
    }
   ],
   "source": [
    "(assert (= (str (λ x x)) \"(λ x . x)\"))\n",
    "(assert (= (str (λ y y)) \"(λ y . y)\"))\n",
    "(assert (= ((λ x x) 1) ((λ y y) 1)))"
   ]
  },
  {
   "cell_type": "markdown",
   "metadata": {},
   "source": [
    "With macros"
   ]
  },
  {
   "cell_type": "code",
   "execution_count": 7,
   "metadata": {},
   "outputs": [
    {
     "data": {
      "text/plain": [
       "[None]"
      ]
     },
     "execution_count": 7,
     "metadata": {},
     "output_type": "execute_result"
    }
   ],
   "source": [
    "(with-macros L)"
   ]
  },
  {
   "cell_type": "markdown",
   "metadata": {},
   "source": [
    "### Constant"
   ]
  },
  {
   "cell_type": "code",
   "execution_count": 8,
   "metadata": {},
   "outputs": [
    {
     "data": {
      "text/plain": [
       "[None, None, None, None]"
      ]
     },
     "execution_count": 8,
     "metadata": {},
     "output_type": "execute_result"
    }
   ],
   "source": [
    "; constant without parameter and body \n",
    "(assert (= (CONST) None))\n",
    "; constant without parameter. body must be quoted!\n",
    "(try\n",
    "  (CONST x)\n",
    "  (except [e NameError]\n",
    "    (assert (= (CONST 'x) 'x))))\n",
    "; constant with body\n",
    "(assert (= (str (CONST x 1)) \"(L x 1)\"))\n",
    "; constant with body and value is same with any value\n",
    "(assert (= ((CONST x 1) 1) ((CONST y 1) 2)))"
   ]
  },
  {
   "cell_type": "markdown",
   "metadata": {},
   "source": [
    "### Identity"
   ]
  },
  {
   "cell_type": "code",
   "execution_count": 9,
   "metadata": {},
   "outputs": [
    {
     "data": {
      "text/plain": [
       "[None, None, None]"
      ]
     },
     "execution_count": 9,
     "metadata": {},
     "output_type": "execute_result"
    }
   ],
   "source": [
    "; identity, without an argument\n",
    "(assert (= (str IDENT) \"(L x x)\"))\n",
    "; identity, with an argument\n",
    "(assert (= (IDENT 1) 1))\n",
    "; identity, nested\n",
    "(assert (= (IDENT (IDENT 1)) 1))"
   ]
  },
  {
   "cell_type": "markdown",
   "metadata": {},
   "source": [
    "### Booleans\n",
    "\n",
    "Not, true, false"
   ]
  },
  {
   "cell_type": "code",
   "execution_count": 10,
   "metadata": {},
   "outputs": [
    {
     "data": {
      "text/plain": [
       "[None, None, None, None]"
      ]
     },
     "execution_count": 10,
     "metadata": {},
     "output_type": "execute_result"
    }
   ],
   "source": [
    "(assert (= (, (str TRUE) (TRUE 1 0)\n",
    "              (str FALSE) (FALSE 1 0))\n",
    "           (, \"(L a (L b a))\" 1\n",
    "              \"(L a (L b b))\" 0)))\n",
    "\n",
    "(assert (= (TRUE 0 1) 0))\n",
    "(assert (= (FALSE 0 1) 1))\n",
    "(assert (= ((NOT FALSE) 0 1) (TRUE 0 1)))"
   ]
  },
  {
   "cell_type": "markdown",
   "metadata": {},
   "source": [
    "### Condition with booleans"
   ]
  },
  {
   "cell_type": "code",
   "execution_count": 11,
   "metadata": {},
   "outputs": [
    {
     "data": {
      "text/plain": [
       "[None, None, None]"
      ]
     },
     "execution_count": 11,
     "metadata": {},
     "output_type": "execute_result"
    }
   ],
   "source": [
    "(assert (= (str COND) \"(L a (L b (L c (a b c))))\"))\n",
    "(assert (= (COND TRUE 'a 'b) 'a))\n",
    "(assert (= (COND FALSE 'a 'b) 'b))"
   ]
  },
  {
   "cell_type": "markdown",
   "metadata": {},
   "source": [
    "### 2-tuples / pairs"
   ]
  },
  {
   "cell_type": "code",
   "execution_count": 12,
   "metadata": {},
   "outputs": [
    {
     "data": {
      "text/plain": [
       "[None, None, None, None, None, None, None, None]"
      ]
     },
     "execution_count": 12,
     "metadata": {},
     "output_type": "execute_result"
    }
   ],
   "source": [
    "; nil\n",
    "(assert (= (str NIL) \"(L x (L a (L b a)))\"))\n",
    "; empty, list end\n",
    "(assert (= (str EMPTY) \"(L s (s (L x (L a (L b a))) (L x (L a (L b a)))))\"))\n",
    "; pair constructor\n",
    "(assert (= (str (PAIR TRUE NIL)) \"(L s (s (L a (L b a)) (L x (L a (L b a)))))\"))\n",
    "; selector, true\n",
    "(assert (= (str (PAIR 'T 'F TRUE)) 'T))\n",
    "; selector, false\n",
    "(assert (= (str (PAIR 'T 'F FALSE)) 'F))\n",
    "; head and tail selectors\n",
    "(assert (= (, (str (HEAD (PAIR TRUE NIL)))\n",
    "              (str (TAIL (PAIR TRUE NIL))))\n",
    "           (, \"(L a (L b a))\" \"(L x (L a (L b a)))\")))\n",
    "; nested pairs and heads and tails\n",
    "(assert (=\n",
    "   (, (str (HEAD (PAIR TRUE (PAIR TRUE NIL))))\n",
    "      (str (HEAD (TAIL (PAIR TRUE (PAIR TRUE NIL)))))\n",
    "      (str (TAIL (TAIL (PAIR TRUE (PAIR TRUE NIL))))))\n",
    "   (, \"(L a (L b a))\" \"(L a (L b a))\" \"(L x (L a (L b a)))\")))\n",
    "; simple condition\n",
    "(assert (=\n",
    "    (, (str (COND TRUE TRUE FALSE) )\n",
    "       (str (COND FALSE TRUE FALSE)))\n",
    "    (, \"(L a (L b a))\" \"(L a (L b b))\")))"
   ]
  },
  {
   "cell_type": "markdown",
   "metadata": {},
   "source": [
    "### Let and Let*"
   ]
  },
  {
   "cell_type": "code",
   "execution_count": 21,
   "metadata": {},
   "outputs": [
    {
     "data": {
      "text/plain": [
       "[None, None, None, None, None, None, None, None, None, None, None, None, None, None]"
      ]
     },
     "execution_count": 21,
     "metadata": {},
     "output_type": "execute_result"
    }
   ],
   "source": [
    "(assert (= (repr* (LET a 1 b 2 d 3 [a b 'c d])) \"(1 2 c 3)\"))\n",
    "(assert (= (repr* (LET a 1 [a a ((L a a) 2)])) \"(1 1 2)\"))\n",
    "(assert (= (repr* (LET a 1 b 'a [a b])) \"(1 a)\"))\n",
    "(assert (= (repr* (LET a 1 c ['a 'b] (LET b a c))) \"(a b)\"))\n",
    "(assert (= (repr* (LET* a 1 c [a 'b] (LET b a c))) \"(1 b)\"))\n",
    "(assert (= (repr* (LET* a 1 b a c [a b] c)) \"(1 1)\"))\n",
    "(assert (= (repr* (LET* a 1 c (LET b a [a b]) c)) \"(1 1)\"))\n",
    "(assert (= (repr* (LET a 1 b ['a 'b] b)) \"(a b)\"))\n",
    "(assert (= (repr* (LET a 1 (LET b a [a b]))) \"(1 1)\"))\n",
    "(assert (= (repr* (LET* a 1 b a [a b])) \"(1 1)\"))\n",
    "(try\n",
    "  (LET x)\n",
    "  (except [e NameError]))\n",
    "(try\n",
    "  (LET x 1)\n",
    "  ; 'int' object is not callable\n",
    "  (except [e TypeError]))\n",
    ";(assert (= (repr (LET* x)) \"((L x x))\"))\n",
    ";(assert (= (repr (LET* x 1)) \"((L x x) 1)\"))\n",
    "(assert (= (LET) None))\n",
    "(assert (= (LET*) []))"
   ]
  },
  {
   "cell_type": "markdown",
   "metadata": {},
   "source": [
    "### Do imperative"
   ]
  },
  {
   "cell_type": "code",
   "execution_count": null,
   "metadata": {},
   "outputs": [],
   "source": [
    "; similar to let*\n",
    "(assert (= (repr* (DO (LET a 1) (LET b 2) (LET c [a b]) [a b c 'd]))  \"(1 2 (1 2) d)\"))\n",
    "; do true\n",
    "(assert (= (str (L (COND (DO TRUE) TRUE FALSE))) \"(L a (L b a))\"))\n",
    "; do false\n",
    "(assert (= (str (L (COND (DO FALSE) TRUE FALSE))) \"(L a (L b b))\"))"
   ]
  },
  {
   "cell_type": "code",
   "execution_count": null,
   "metadata": {},
   "outputs": [],
   "source": []
  },
  {
   "cell_type": "code",
   "execution_count": null,
   "metadata": {},
   "outputs": [],
   "source": []
  },
  {
   "cell_type": "code",
   "execution_count": null,
   "metadata": {},
   "outputs": [],
   "source": [
    "(print* ((NUM 4) 'a 'b))"
   ]
  },
  {
   "cell_type": "code",
   "execution_count": null,
   "metadata": {},
   "outputs": [],
   "source": [
    "(print (S K S))"
   ]
  },
  {
   "cell_type": "code",
   "execution_count": null,
   "metadata": {},
   "outputs": [],
   "source": [
    "(print ((S K S) 'a))"
   ]
  },
  {
   "cell_type": "code",
   "execution_count": null,
   "metadata": {},
   "outputs": [],
   "source": []
  },
  {
   "cell_type": "code",
   "execution_count": null,
   "metadata": {},
   "outputs": [],
   "source": [
    "(print (SUM ONE TWO))"
   ]
  },
  {
   "cell_type": "code",
   "execution_count": null,
   "metadata": {},
   "outputs": [],
   "source": [
    "(print* ((SUM ONE TWO) 'a 'b))"
   ]
  },
  {
   "cell_type": "code",
   "execution_count": null,
   "metadata": {},
   "outputs": [],
   "source": [
    "(print (MUN THREE))"
   ]
  },
  {
   "cell_type": "code",
   "execution_count": null,
   "metadata": {},
   "outputs": [],
   "source": [
    "(print (MUN (SUM ONE TWO)))"
   ]
  },
  {
   "cell_type": "code",
   "execution_count": null,
   "metadata": {},
   "outputs": [],
   "source": [
    "(print (FACTORIAL FOUR))"
   ]
  },
  {
   "cell_type": "code",
   "execution_count": null,
   "metadata": {},
   "outputs": [],
   "source": [
    "(print* ((FACTORIAL FOUR) 'a 'b))"
   ]
  },
  {
   "cell_type": "code",
   "execution_count": null,
   "metadata": {},
   "outputs": [],
   "source": [
    "(print (MUN (FACTORIAL FOUR)))"
   ]
  },
  {
   "cell_type": "code",
   "execution_count": null,
   "metadata": {},
   "outputs": [],
   "source": [
    "(print* (FIBONACCI2 TEN 'a 'b))"
   ]
  },
  {
   "cell_type": "code",
   "execution_count": null,
   "metadata": {},
   "outputs": [],
   "source": [
    "(print* (MUN (FIBONACCI2 TEN)))"
   ]
  },
  {
   "cell_type": "code",
   "execution_count": null,
   "metadata": {},
   "outputs": [],
   "source": [
    "(print* (MUN (FIBONACCI2 (NUM 14))))"
   ]
  },
  {
   "cell_type": "code",
   "execution_count": null,
   "metadata": {},
   "outputs": [],
   "source": [
    "(print* (MUN (FIBONACCI (NUM 14))))"
   ]
  },
  {
   "cell_type": "code",
   "execution_count": null,
   "metadata": {
    "collapsed": true
   },
   "outputs": [],
   "source": []
  }
 ],
 "metadata": {
  "kernelspec": {
   "display_name": "Calysto Hy",
   "language": "hy",
   "name": "calysto_hy"
  },
  "language_info": {
   "codemirror_mode": {
    "name": "scheme"
   },
   "mimetype": "text/x-hylang",
   "name": "hy",
   "pygments_lexer": "lisp"
  }
 },
 "nbformat": 4,
 "nbformat_minor": 2
}
