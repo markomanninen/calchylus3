{
 "cells": [
  {
   "cell_type": "markdown",
   "metadata": {},
   "source": [
    "# Calchylus 3"
   ]
  },
  {
   "cell_type": "markdown",
   "metadata": {},
   "source": [
    "## Requirements\n",
    "\n",
    "- Python version: 3.5 and up\n",
    "- Hy version: 0.15.0\n"
   ]
  },
  {
   "cell_type": "code",
   "execution_count": 4,
   "metadata": {},
   "outputs": [
    {
     "name": "stdout",
     "output_type": "stream",
     "text": [
      "Python version: 3.5.4 |Continuum Analytics, Inc.| (default, Aug 14 2017, 13:41:13) [MSC v.1900 64 bit (AMD64)]\n",
      "Hy version: 0.15.0\n"
     ]
    },
    {
     "data": {
      "text/plain": [
       "[None, None, None]"
      ]
     },
     "execution_count": 4,
     "metadata": {},
     "output_type": "execute_result"
    }
   ],
   "source": [
    "(import sys hy)\n",
    "(print 'Python 'version: sys.version)\n",
    "(print 'Hy 'version: hy.__version__)"
   ]
  },
  {
   "cell_type": "code",
   "execution_count": 5,
   "metadata": {},
   "outputs": [
    {
     "data": {
      "text/plain": [
       "[None]"
      ]
     },
     "execution_count": 5,
     "metadata": {},
     "output_type": "execute_result"
    }
   ],
   "source": [
    "(require [calchylus3.lambdas [*]])"
   ]
  },
  {
   "cell_type": "code",
   "execution_count": 22,
   "metadata": {},
   "outputs": [
    {
     "data": {
      "text/plain": [
       "[<function <lambda> at 0x0000023628B38D90>]"
      ]
     },
     "execution_count": 22,
     "metadata": {},
     "output_type": "execute_result"
    }
   ],
   "source": [
    "(without-macros L)"
   ]
  },
  {
   "cell_type": "code",
   "execution_count": 23,
   "metadata": {},
   "outputs": [
    {
     "data": {
      "text/plain": [
       "[1]"
      ]
     },
     "execution_count": 23,
     "metadata": {},
     "output_type": "execute_result"
    }
   ],
   "source": [
    "((L x x) (L x x) 1)"
   ]
  },
  {
   "cell_type": "code",
   "execution_count": 24,
   "metadata": {},
   "outputs": [
    {
     "data": {
      "text/plain": [
       "[None]"
      ]
     },
     "execution_count": 24,
     "metadata": {},
     "output_type": "execute_result"
    }
   ],
   "source": [
    "(with-macros L)"
   ]
  },
  {
   "cell_type": "code",
   "execution_count": 36,
   "metadata": {},
   "outputs": [
    {
     "data": {
      "text/plain": [
       "[HyList([\n",
       "  HySymbol('a'),\n",
       "  HyList([\n",
       "    HySymbol('a'),\n",
       "    HyList([\n",
       "      HySymbol('a'),\n",
       "      HyList([\n",
       "        HySymbol('a'),\n",
       "        HyList([\n",
       "          HySymbol('a'),\n",
       "          HyList([\n",
       "            HySymbol('a'),\n",
       "            HyList([\n",
       "              HySymbol('a'),\n",
       "              HyList([\n",
       "                HySymbol('a'),\n",
       "                HyList([\n",
       "                  HySymbol('a'),\n",
       "                  HyList([\n",
       "                    HySymbol('a'),\n",
       "                    HySymbol('b')])])])])])])])])])])]"
      ]
     },
     "execution_count": 36,
     "metadata": {},
     "output_type": "execute_result"
    }
   ],
   "source": [
    "((NUM 10) 'a 'b)"
   ]
  },
  {
   "cell_type": "code",
   "execution_count": 29,
   "metadata": {},
   "outputs": [
    {
     "data": {
      "text/plain": [
       "[21]"
      ]
     },
     "execution_count": 29,
     "metadata": {},
     "output_type": "execute_result"
    }
   ],
   "source": [
    "(MUN (FIBONACCI SEVEN))"
   ]
  },
  {
   "cell_type": "code",
   "execution_count": 26,
   "metadata": {},
   "outputs": [
    {
     "data": {
      "text/plain": [
       "[(L n HyList([\n",
       "  HyList([\n",
       "    HySymbol('n'),\n",
       "    (L a Function([\n",
       "      HySymbol('a'),\n",
       "      (L b b),\n",
       "      <function _hy_anon_var_93.<locals>._hy_anon_var_92 at 0x0000023628F41950>])),\n",
       "    (L a Function([\n",
       "      HySymbol('b'),\n",
       "      HySymbol('a'),\n",
       "      <function _hy_anon_var_28.<locals>._hy_anon_var_25.<locals>.<lambda> at 0x000002362901FEA0>]))]),\n",
       "  HySymbol('n'),\n",
       "  (L x Function([\n",
       "    HySymbol('y'),\n",
       "    [HySymbol('n'), HySymbol('x'), [[[(L y HyList([\n",
       "      (L f Function([\n",
       "        HySymbol('n'),\n",
       "        [HyList([\n",
       "          HySymbol('n'),\n",
       "          (L a Function([\n",
       "            HySymbol('a'),\n",
       "            (L b b),\n",
       "            <function _hy_anon_var_93.<locals>._hy_anon_var_92 at 0x0000023628F41950>])),\n",
       "          (L a Function([\n",
       "            HySymbol('b'),\n",
       "            HySymbol('a'),\n",
       "            <function _hy_anon_var_28.<locals>._hy_anon_var_25.<locals>.<lambda> at 0x000002362901FEA0>]))]), HySymbol('n'), (L x Function([\n",
       "          HySymbol('y'),\n",
       "          [HySymbol('n'), HySymbol('x'), [[HySymbol('f'), (L x Function([\n",
       "            HySymbol('y'),\n",
       "            [HySymbol('n'), (L g Function([\n",
       "              HySymbol('h'),\n",
       "              [HySymbol('h'), [HySymbol('g'), HySymbol('x')]],\n",
       "              <function _hy_anon_var_264.<locals>._hy_anon_var_263.<locals>._hy_anon_var_262.<locals>._hy_anon_var_246.<locals>._hy_anon_var_236.<locals>._hy_anon_var_233.<locals>.<lambda> at 0x0000023628C37F28>])), (L x y), (L x x)],\n",
       "            <function _hy_anon_var_264.<locals>._hy_anon_var_263.<locals>._hy_anon_var_262.<locals>._hy_anon_var_246.<locals>._hy_anon_var_245 at 0x0000023628A096A8>]))], HySymbol('x'), HySymbol('y')]],\n",
       "          <function _hy_anon_var_202.<locals>._hy_anon_var_201.<locals>._hy_anon_var_200.<locals>._hy_anon_var_199.<locals>._hy_anon_var_198.<locals>._hy_anon_var_195.<locals>.<lambda> at 0x0000023628C378C8>]))],\n",
       "        <function _hy_anon_var_672.<locals>._hy_anon_var_666.<locals>._hy_anon_var_663.<locals>.<lambda> at 0x0000023628A091E0>])),\n",
       "      HyList([\n",
       "        HySymbol('y'),\n",
       "        HySymbol('y')])])), (L y HyList([\n",
       "      (L f Function([\n",
       "        HySymbol('n'),\n",
       "        [HyList([\n",
       "          HySymbol('n'),\n",
       "          (L a Function([\n",
       "            HySymbol('a'),\n",
       "            (L b b),\n",
       "            <function _hy_anon_var_93.<locals>._hy_anon_var_92 at 0x0000023628F41950>])),\n",
       "          (L a Function([\n",
       "            HySymbol('b'),\n",
       "            HySymbol('a'),\n",
       "            <function _hy_anon_var_28.<locals>._hy_anon_var_25.<locals>.<lambda> at 0x000002362901FEA0>]))]), HySymbol('n'), (L x Function([\n",
       "          HySymbol('y'),\n",
       "          [HySymbol('n'), HySymbol('x'), [[HySymbol('f'), (L x Function([\n",
       "            HySymbol('y'),\n",
       "            [HySymbol('n'), (L g Function([\n",
       "              HySymbol('h'),\n",
       "              [HySymbol('h'), [HySymbol('g'), HySymbol('x')]],\n",
       "              <function _hy_anon_var_264.<locals>._hy_anon_var_263.<locals>._hy_anon_var_262.<locals>._hy_anon_var_246.<locals>._hy_anon_var_236.<locals>._hy_anon_var_233.<locals>.<lambda> at 0x0000023628C37F28>])), (L x y), (L x x)],\n",
       "            <function _hy_anon_var_264.<locals>._hy_anon_var_263.<locals>._hy_anon_var_262.<locals>._hy_anon_var_246.<locals>._hy_anon_var_245 at 0x0000023628A096A8>]))], HySymbol('x'), HySymbol('y')]],\n",
       "          <function _hy_anon_var_202.<locals>._hy_anon_var_201.<locals>._hy_anon_var_200.<locals>._hy_anon_var_199.<locals>._hy_anon_var_198.<locals>._hy_anon_var_195.<locals>.<lambda> at 0x0000023628C378C8>]))],\n",
       "        <function _hy_anon_var_672.<locals>._hy_anon_var_666.<locals>._hy_anon_var_663.<locals>.<lambda> at 0x0000023628A091E0>])),\n",
       "      HyList([\n",
       "        HySymbol('y'),\n",
       "        HySymbol('y')])]))], (L x Function([\n",
       "      HySymbol('y'),\n",
       "      [HySymbol('n'), (L g Function([\n",
       "        HySymbol('h'),\n",
       "        [HySymbol('h'), [HySymbol('g'), HySymbol('x')]],\n",
       "        <function _hy_anon_var_264.<locals>._hy_anon_var_263.<locals>._hy_anon_var_262.<locals>._hy_anon_var_246.<locals>._hy_anon_var_236.<locals>._hy_anon_var_233.<locals>.<lambda> at 0x0000023628E55840>])), (L x y), (L x x)],\n",
       "      <function _hy_anon_var_264.<locals>._hy_anon_var_263.<locals>._hy_anon_var_262.<locals>._hy_anon_var_246.<locals>._hy_anon_var_245 at 0x0000023628E55B70>]))], HySymbol('x'), HySymbol('y')]],\n",
       "    <function _hy_anon_var_202.<locals>._hy_anon_var_201.<locals>._hy_anon_var_200.<locals>._hy_anon_var_199.<locals>._hy_anon_var_198.<locals>._hy_anon_var_195.<locals>.<lambda> at 0x0000023628EEA158>]))]))]"
      ]
     },
     "execution_count": 26,
     "metadata": {},
     "output_type": "execute_result"
    }
   ],
   "source": [
    "SUMMATION"
   ]
  },
  {
   "cell_type": "code",
   "execution_count": null,
   "metadata": {
    "collapsed": true
   },
   "outputs": [],
   "source": []
  }
 ],
 "metadata": {
  "kernelspec": {
   "display_name": "Calysto Hy",
   "language": "hy",
   "name": "calysto_hy"
  },
  "language_info": {
   "codemirror_mode": {
    "name": "scheme"
   },
   "mimetype": "text/x-hylang",
   "name": "hy",
   "pygments_lexer": "lisp"
  }
 },
 "nbformat": 4,
 "nbformat_minor": 2
}
