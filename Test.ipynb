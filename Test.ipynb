{
 "cells": [
  {
   "cell_type": "markdown",
   "metadata": {},
   "source": [
    "# Calchylus 3"
   ]
  },
  {
   "cell_type": "markdown",
   "metadata": {},
   "source": [
    "## Requirements\n",
    "\n",
    "- Python version: 3.5 and up\n",
    "- Hy version: 0.15.0\n"
   ]
  },
  {
   "cell_type": "code",
   "execution_count": 1,
   "metadata": {},
   "outputs": [
    {
     "name": "stdout",
     "output_type": "stream",
     "text": [
      "Python version: 3.6.1 |Anaconda 4.4.0 (64-bit)| (default, May 11 2017, 13:25:24) [MSC v.1900 64 bit (AMD64)]\n",
      "Hy version: 0.15.0\n"
     ]
    },
    {
     "data": {
      "text/plain": [
       "[None, None, None]"
      ]
     },
     "execution_count": 1,
     "metadata": {},
     "output_type": "execute_result"
    }
   ],
   "source": [
    "(import sys hy)\n",
    "(print 'Python 'version: sys.version)\n",
    "(print 'Hy 'version: hy.__version__)"
   ]
  },
  {
   "cell_type": "code",
   "execution_count": 2,
   "metadata": {},
   "outputs": [
    {
     "data": {
      "text/plain": [
       "[None]"
      ]
     },
     "execution_count": 2,
     "metadata": {},
     "output_type": "execute_result"
    }
   ],
   "source": [
    "(require [calchylus3.lambdas [*]])"
   ]
  },
  {
   "cell_type": "code",
   "execution_count": 3,
   "metadata": {},
   "outputs": [
    {
     "data": {
      "text/plain": [
       "[<function <lambda> at 0x0000024A0E409378>]"
      ]
     },
     "execution_count": 3,
     "metadata": {},
     "output_type": "execute_result"
    }
   ],
   "source": [
    "(without-macros L)"
   ]
  },
  {
   "cell_type": "code",
   "execution_count": 4,
   "metadata": {},
   "outputs": [
    {
     "data": {
      "text/plain": [
       "[1]"
      ]
     },
     "execution_count": 4,
     "metadata": {},
     "output_type": "execute_result"
    }
   ],
   "source": [
    "((L x x) (L x x) 1)"
   ]
  },
  {
   "cell_type": "code",
   "execution_count": 5,
   "metadata": {},
   "outputs": [
    {
     "data": {
      "text/plain": [
       "[None]"
      ]
     },
     "execution_count": 5,
     "metadata": {},
     "output_type": "execute_result"
    }
   ],
   "source": [
    "(with-macros L)"
   ]
  },
  {
   "cell_type": "code",
   "execution_count": 6,
   "metadata": {},
   "outputs": [
    {
     "data": {
      "text/plain": [
       "[HyList([\n",
       "  HySymbol('a'),\n",
       "  HyList([\n",
       "    HySymbol('a'),\n",
       "    HyList([\n",
       "      HySymbol('a'),\n",
       "      HyList([\n",
       "        HySymbol('a'),\n",
       "        HyList([\n",
       "          HySymbol('a'),\n",
       "          HyList([\n",
       "            HySymbol('a'),\n",
       "            HyList([\n",
       "              HySymbol('a'),\n",
       "              HyList([\n",
       "                HySymbol('a'),\n",
       "                HyList([\n",
       "                  HySymbol('a'),\n",
       "                  HyList([\n",
       "                    HySymbol('a'),\n",
       "                    HySymbol('b')])])])])])])])])])])]"
      ]
     },
     "execution_count": 6,
     "metadata": {},
     "output_type": "execute_result"
    }
   ],
   "source": [
    "((NUM 10) 'a 'b)"
   ]
  },
  {
   "cell_type": "code",
   "execution_count": 7,
   "metadata": {},
   "outputs": [
    {
     "data": {
      "text/plain": [
       "[21]"
      ]
     },
     "execution_count": 7,
     "metadata": {},
     "output_type": "execute_result"
    }
   ],
   "source": [
    "(MUN (FIBONACCI SEVEN))"
   ]
  },
  {
   "cell_type": "code",
   "execution_count": 8,
   "metadata": {},
   "outputs": [
    {
     "data": {
      "text/plain": [
       "[(L n HyList([\n",
       "  HyList([\n",
       "    HySymbol('n'),\n",
       "    (L a Function([\n",
       "      HySymbol('a'),\n",
       "      (L b b),\n",
       "      <function _hy_anon_var_93.<locals>._hy_anon_var_92 at 0x0000024A0FCAF7B8>])),\n",
       "    (L a Function([\n",
       "      HySymbol('b'),\n",
       "      HySymbol('a'),\n",
       "      <function _hy_anon_var_28.<locals>._hy_anon_var_25.<locals>.<lambda> at 0x0000024A0E478C80>]))]),\n",
       "  HySymbol('n'),\n",
       "  (L x Function([\n",
       "    HySymbol('y'),\n",
       "    [HySymbol('n'), HySymbol('x'), [[[(L y HyList([\n",
       "      (L f Function([\n",
       "        HySymbol('n'),\n",
       "        [HyList([\n",
       "          HySymbol('n'),\n",
       "          (L a Function([\n",
       "            HySymbol('a'),\n",
       "            (L b b),\n",
       "            <function _hy_anon_var_93.<locals>._hy_anon_var_92 at 0x0000024A0FCAF7B8>])),\n",
       "          (L a Function([\n",
       "            HySymbol('b'),\n",
       "            HySymbol('a'),\n",
       "            <function _hy_anon_var_28.<locals>._hy_anon_var_25.<locals>.<lambda> at 0x0000024A0E478C80>]))]), HySymbol('n'), (L x Function([\n",
       "          HySymbol('y'),\n",
       "          [HySymbol('n'), HySymbol('x'), [[HySymbol('f'), (L x Function([\n",
       "            HySymbol('y'),\n",
       "            [HySymbol('n'), (L g Function([\n",
       "              HySymbol('h'),\n",
       "              [HySymbol('h'), [HySymbol('g'), HySymbol('x')]],\n",
       "              <function _hy_anon_var_264.<locals>._hy_anon_var_263.<locals>._hy_anon_var_262.<locals>._hy_anon_var_246.<locals>._hy_anon_var_236.<locals>._hy_anon_var_233.<locals>.<lambda> at 0x0000024A0E493C80>])), (L x y), (L x x)],\n",
       "            <function _hy_anon_var_264.<locals>._hy_anon_var_263.<locals>._hy_anon_var_262.<locals>._hy_anon_var_246.<locals>._hy_anon_var_245 at 0x0000024A0E493AE8>]))], HySymbol('x'), HySymbol('y')]],\n",
       "          <function _hy_anon_var_202.<locals>._hy_anon_var_201.<locals>._hy_anon_var_200.<locals>._hy_anon_var_199.<locals>._hy_anon_var_198.<locals>._hy_anon_var_195.<locals>.<lambda> at 0x0000024A0E493E18>]))],\n",
       "        <function _hy_anon_var_672.<locals>._hy_anon_var_666.<locals>._hy_anon_var_663.<locals>.<lambda> at 0x0000024A0E493D90>])),\n",
       "      HyList([\n",
       "        HySymbol('y'),\n",
       "        HySymbol('y')])])), (L y HyList([\n",
       "      (L f Function([\n",
       "        HySymbol('n'),\n",
       "        [HyList([\n",
       "          HySymbol('n'),\n",
       "          (L a Function([\n",
       "            HySymbol('a'),\n",
       "            (L b b),\n",
       "            <function _hy_anon_var_93.<locals>._hy_anon_var_92 at 0x0000024A0FCAF7B8>])),\n",
       "          (L a Function([\n",
       "            HySymbol('b'),\n",
       "            HySymbol('a'),\n",
       "            <function _hy_anon_var_28.<locals>._hy_anon_var_25.<locals>.<lambda> at 0x0000024A0E478C80>]))]), HySymbol('n'), (L x Function([\n",
       "          HySymbol('y'),\n",
       "          [HySymbol('n'), HySymbol('x'), [[HySymbol('f'), (L x Function([\n",
       "            HySymbol('y'),\n",
       "            [HySymbol('n'), (L g Function([\n",
       "              HySymbol('h'),\n",
       "              [HySymbol('h'), [HySymbol('g'), HySymbol('x')]],\n",
       "              <function _hy_anon_var_264.<locals>._hy_anon_var_263.<locals>._hy_anon_var_262.<locals>._hy_anon_var_246.<locals>._hy_anon_var_236.<locals>._hy_anon_var_233.<locals>.<lambda> at 0x0000024A0E493C80>])), (L x y), (L x x)],\n",
       "            <function _hy_anon_var_264.<locals>._hy_anon_var_263.<locals>._hy_anon_var_262.<locals>._hy_anon_var_246.<locals>._hy_anon_var_245 at 0x0000024A0E493AE8>]))], HySymbol('x'), HySymbol('y')]],\n",
       "          <function _hy_anon_var_202.<locals>._hy_anon_var_201.<locals>._hy_anon_var_200.<locals>._hy_anon_var_199.<locals>._hy_anon_var_198.<locals>._hy_anon_var_195.<locals>.<lambda> at 0x0000024A0E493E18>]))],\n",
       "        <function _hy_anon_var_672.<locals>._hy_anon_var_666.<locals>._hy_anon_var_663.<locals>.<lambda> at 0x0000024A0E493D90>])),\n",
       "      HyList([\n",
       "        HySymbol('y'),\n",
       "        HySymbol('y')])]))], (L x Function([\n",
       "      HySymbol('y'),\n",
       "      [HySymbol('n'), (L g Function([\n",
       "        HySymbol('h'),\n",
       "        [HySymbol('h'), [HySymbol('g'), HySymbol('x')]],\n",
       "        <function _hy_anon_var_264.<locals>._hy_anon_var_263.<locals>._hy_anon_var_262.<locals>._hy_anon_var_246.<locals>._hy_anon_var_236.<locals>._hy_anon_var_233.<locals>.<lambda> at 0x0000024A0E4B27B8>])), (L x y), (L x x)],\n",
       "      <function _hy_anon_var_264.<locals>._hy_anon_var_263.<locals>._hy_anon_var_262.<locals>._hy_anon_var_246.<locals>._hy_anon_var_245 at 0x0000024A0E4B2620>]))], HySymbol('x'), HySymbol('y')]],\n",
       "    <function _hy_anon_var_202.<locals>._hy_anon_var_201.<locals>._hy_anon_var_200.<locals>._hy_anon_var_199.<locals>._hy_anon_var_198.<locals>._hy_anon_var_195.<locals>.<lambda> at 0x0000024A0E4B2950>]))]))]"
      ]
     },
     "execution_count": 8,
     "metadata": {},
     "output_type": "execute_result"
    }
   ],
   "source": [
    "SUMMATION"
   ]
  },
  {
   "cell_type": "code",
   "execution_count": 9,
   "metadata": {},
   "outputs": [
    {
     "name": "stdout",
     "output_type": "stream",
     "text": [
      "True\n"
     ]
    },
    {
     "data": {
      "text/plain": [
       "[None]"
      ]
     },
     "execution_count": 9,
     "metadata": {},
     "output_type": "execute_result"
    }
   ],
   "source": [
    "(print hy.models.PRETTY)"
   ]
  },
  {
   "cell_type": "code",
   "execution_count": 20,
   "metadata": {},
   "outputs": [
    {
     "name": "stdout",
     "output_type": "stream",
     "text": [
      "Function([\n",
      "  HySymbol('y'),\n",
      "  0,\n",
      "  <function _hy_anon_var_4.<locals>._hy_anon_var_3.<locals>._hy_anon_var_2.<locals>.<lambda> at 0x0000024A0FC64AE8>])\n"
     ]
    },
    {
     "data": {
      "text/plain": [
       "[None]"
      ]
     },
     "execution_count": 20,
     "metadata": {},
     "output_type": "execute_result"
    }
   ],
   "source": [
    "(print ((L x y x) 0))"
   ]
  },
  {
   "cell_type": "code",
   "execution_count": 200,
   "metadata": {},
   "outputs": [
    {
     "data": {
      "text/plain": [
       "[None, <function _hy_anon_var_11 at 0x0000024A0E5CC730>]"
      ]
     },
     "execution_count": 200,
     "metadata": {},
     "output_type": "execute_result"
    }
   ],
   "source": [
    "(eval-and-compile(defn G[e](instance? F e))(defn H[a b](while(and(callable a)b)(setv a(a(.pop b 0))))(if b(doto a(.extend b))a))(defn N[e](if(coll? e)(if(G(first e))(H(first e)(list(rest e)))(if(G e)e(do(setv x(list(map N e)))(if(G(first x))(N x)x))))e))(defn R[e](if(and(coll? e)(not(G e)))(list(map R e)))(name e))(defclass F[list](defn --repr--[self](%\"(L%s.%s)\"(,(first self)(R(second self)))))(defn --call--[self v &rest a](setv e(N((last self)v)))(if a(H e(list a))e))))(defmacro L[&rest e](reduce(fn[b a]`((fn[](setv ~a(str '~a))(F['~a ~b(fn[~a]~b)]))))(doto(list e).reverse)))"
   ]
  },
  {
   "cell_type": "code",
   "execution_count": 201,
   "metadata": {},
   "outputs": [
    {
     "data": {
      "text/plain": [
       "[None]"
      ]
     },
     "execution_count": 201,
     "metadata": {},
     "output_type": "execute_result"
    }
   ],
   "source": [
    "(setv S (L x y z [[x z][y z]])\n",
    "      K (L x y x))"
   ]
  },
  {
   "cell_type": "code",
   "execution_count": 202,
   "metadata": {},
   "outputs": [
    {
     "name": "stdout",
     "output_type": "stream",
     "text": [
      "(Lx.(Ly.(Lz.[['x', 'z'], ['y', 'z']])))\n"
     ]
    },
    {
     "data": {
      "text/plain": [
       "[None]"
      ]
     },
     "execution_count": 202,
     "metadata": {},
     "output_type": "execute_result"
    }
   ],
   "source": [
    "(print S)"
   ]
  },
  {
   "cell_type": "code",
   "execution_count": 109,
   "metadata": {},
   "outputs": [
    {
     "data": {
      "text/plain": [
       "['']"
      ]
     },
     "execution_count": 109,
     "metadata": {},
     "output_type": "execute_result"
    }
   ],
   "source": [
    "(.join \"\" [])"
   ]
  },
  {
   "cell_type": "code",
   "execution_count": 209,
   "metadata": {},
   "outputs": [
    {
     "name": "stderr",
     "output_type": "stream",
     "text": [
      "\u001b[1;31mTraceback (most recent call last):\n",
      "  File \"C:\\Users\\phtep\\Anaconda3\\lib\\site-packages\\calysto_hy\\kernel.py\", line 137, in do_execute_direct\n",
      "    eval(code, self.env)\n",
      "  File \"In [209]\", line 1, in <module>\n",
      "TypeError: sequence item 0: expected str instance, list found\n",
      "\n",
      "\u001b[0m"
     ]
    }
   ],
   "source": [
    "(print (.join\" \"[[\"a\" \"b\"][\"a\" \"b\"]]))"
   ]
  },
  {
   "cell_type": "code",
   "execution_count": 351,
   "metadata": {},
   "outputs": [
    {
     "data": {
      "text/plain": [
       "[None, <function _hy_anon_var_15 at 0x0000024A0E593BF8>]"
      ]
     },
     "execution_count": 351,
     "metadata": {},
     "output_type": "execute_result"
    }
   ],
   "source": [
    "(eval-and-compile(defn f[e](instance? F e))(defn z[e a](if a(y e(list a))e))(defn y[a b](while(and(callable a)b)(setv a(a(.pop b 0))))(if b(doto a(.extend b))a))(defn C[a](if(coll? a)(%\"(%s)\"(.join\" \"map C a))a))(defn n[e](if(coll? e)(if(f(first e))(y(first e)(list(rest e)))(if(f e)e(do(setv x(map n e))(if(f(first x))(n x)x))))e))(defn R[e](if(and(coll? e)(not(f e)))(C(list(map R e)))e))(defclass V[](defn --init--[self x](setv self.x x))(defn --repr--[self]self.x))(defclass F[list](defn --repr--[self](%\"(λ%s.%s)\"(,(first self)(R(second self)))))(defn --call--[self v &rest a](z(n((last self)v))a))))(defmacro L[&rest e](reduce(fn[b a]`((fn[](setv ~a(V'~a))(F['~a ~b(fn[~a]~b)]))))(doto(list e).reverse)))"
   ]
  },
  {
   "cell_type": "code",
   "execution_count": 352,
   "metadata": {},
   "outputs": [
    {
     "data": {
      "text/plain": [
       "[None]"
      ]
     },
     "execution_count": 352,
     "metadata": {},
     "output_type": "execute_result"
    }
   ],
   "source": [
    "(setv S (L a b c [[a c][b c]]))"
   ]
  },
  {
   "cell_type": "code",
   "execution_count": 354,
   "metadata": {},
   "outputs": [
    {
     "name": "stdout",
     "output_type": "stream",
     "text": [
      "<map object at 0x0000024A0E805B00>\n"
     ]
    },
    {
     "data": {
      "text/plain": [
       "[None]"
      ]
     },
     "execution_count": 354,
     "metadata": {},
     "output_type": "execute_result"
    }
   ],
   "source": [
    "(print ((S S K) 1))"
   ]
  },
  {
   "cell_type": "code",
   "execution_count": 410,
   "metadata": {},
   "outputs": [
    {
     "data": {
      "text/plain": [
       "[None]"
      ]
     },
     "execution_count": 410,
     "metadata": {},
     "output_type": "execute_result"
    }
   ],
   "source": []
  },
  {
   "cell_type": "code",
   "execution_count": 56,
   "metadata": {},
   "outputs": [
    {
     "data": {
      "text/plain": [
       "[None, <function _hy_anon_var_12 at 0x00000150A3C1F510>]"
      ]
     },
     "execution_count": 56,
     "metadata": {},
     "output_type": "execute_result"
    }
   ],
   "source": [
    "(eval-and-compile\n",
    "  (defn f[e](instance? F e))\n",
    "  (defn C[a](if(coll? a)(%\"(%s)\"(.join\" \"(map C a)))(str a)))\n",
    "  (defn y[a b](while(and(callable a)b)(setv a(a(.pop b 0))))(if b(doto a(.extend b))a))\n",
    "  (defn n[e](if(coll? e)(if(f(first e))(y(first e)(list(rest e)))(if(f e)e(do(setv x(list(map n e)))(if(f(first x))(n x)x))))e))\n",
    "  (defn R[e](if(and(coll? e)(not(f e)))(C(map str(map R e)))e))\n",
    "  (defclass F[list]\n",
    "    (defn --repr--[self](%\"(λ%s.%s)\"(,(first self)(R(second self)))))\n",
    "    (defn --call--[self v &rest a]((fn[e](if a(y e(list a))e))(n((last self)v))))))\n",
    "(defmacro L[&rest e](reduce(fn[b a]`((fn[](setv ~a(str'~a))(F['~a ~b(fn[~a]~b)]))))(doto(list e).reverse)))"
   ]
  },
  {
   "cell_type": "code",
   "execution_count": 47,
   "metadata": {},
   "outputs": [
    {
     "data": {
      "text/plain": [
       "[None, <function _hy_anon_var_12 at 0x00000222D68B28C8>]"
      ]
     },
     "execution_count": 47,
     "metadata": {},
     "output_type": "execute_result"
    }
   ],
   "source": [
    "(eval-and-compile\n",
    "  (defn A[x](instance? F x))\n",
    "  (defn B[x](if(coll? x)(%\"(%s)\"(.join\" \"(map B x)))(name x)))\n",
    "  (defn C[x](if(and(coll? x)(not(A x)))(B(map name(map C x)))x))\n",
    "  (defn D[x y](while(and(callable x)y)(setv x(x(.pop y 0))))(if y(doto x(.extend y))x))\n",
    "  (defn E[x](if(coll? x)(if(A(first x))(D(first x)(list(rest x)))(if(A x)x(do(setv y(list(map E x)))(if(A(first y))(E y)y))))x))\n",
    "  (defclass F[list](defn --repr--[self](%\"(λ%s.%s)\"(,(first self)(C(second self)))))(defn --call--[self x &rest y](setv v((fn[z](if y(D z(list y))z))(E((last self)x))))(if(A v)v(B v)))))\n",
    "(defmacro L[&rest x](reduce(fn[y z]`((fn[](setv ~z(name'~z))(F['~z ~y(fn[~z]~y)]))))(doto(list x).reverse)))"
   ]
  },
  {
   "cell_type": "code",
   "execution_count": 1,
   "metadata": {},
   "outputs": [
    {
     "data": {
      "text/plain": [
       "[None, <function _hy_anon_var_9 at 0x00000157D81376A8>]"
      ]
     },
     "execution_count": 1,
     "metadata": {},
     "output_type": "execute_result"
    }
   ],
   "source": [
    "(eval-and-compile\n",
    "  (defn A[x](instance? F x))\n",
    "  (defn D[x y](while(and(callable x)y)(setv x(x(.pop y 0))))(if y(doto x(.extend y))x))\n",
    "  (defn E[x](if(coll? x)(if(A(first x))(D(first x)(list(rest x)))(if(A x)x(do(setv y(list(map E x)))(if(A(first y))(E y)y))))x))\n",
    "  (defclass F[list](defn --call--[self x &rest y](setv v((fn[z](if y(D z(list y))z))(E((last self)x))))(if(A v)v(B v)))))\n",
    "(defmacro L[&rest x](reduce(fn[y z]`((fn[](setv ~z(name'~z))(F['~z ~y(fn[~z]~y)]))))(doto(list x).reverse)))"
   ]
  },
  {
   "cell_type": "code",
   "execution_count": 48,
   "metadata": {},
   "outputs": [
    {
     "data": {
      "text/plain": [
       "[None]"
      ]
     },
     "execution_count": 48,
     "metadata": {},
     "output_type": "execute_result"
    }
   ],
   "source": [
    "(setv S (L a b c [[a c][b c]])\n",
    "      K (L a b a)\n",
    "      THREE (L a b [a [a [a b]]]))"
   ]
  },
  {
   "cell_type": "code",
   "execution_count": 49,
   "metadata": {},
   "outputs": [
    {
     "name": "stdout",
     "output_type": "stream",
     "text": [
      "(a (a (a b)))\n"
     ]
    },
    {
     "data": {
      "text/plain": [
       "[None]"
      ]
     },
     "execution_count": 49,
     "metadata": {},
     "output_type": "execute_result"
    }
   ],
   "source": [
    "(print (THREE 'a 'b))"
   ]
  },
  {
   "cell_type": "code",
   "execution_count": 50,
   "metadata": {},
   "outputs": [
    {
     "name": "stdout",
     "output_type": "stream",
     "text": [
      "(λa.(λb.(λc.((a c) (b c)))))\n"
     ]
    },
    {
     "data": {
      "text/plain": [
       "[None]"
      ]
     },
     "execution_count": 50,
     "metadata": {},
     "output_type": "execute_result"
    }
   ],
   "source": [
    "(print S)"
   ]
  },
  {
   "cell_type": "code",
   "execution_count": 51,
   "metadata": {},
   "outputs": [
    {
     "name": "stdout",
     "output_type": "stream",
     "text": [
      "(λa.(λb.a))\n"
     ]
    },
    {
     "data": {
      "text/plain": [
       "[None]"
      ]
     },
     "execution_count": 51,
     "metadata": {},
     "output_type": "execute_result"
    }
   ],
   "source": [
    "(print K)"
   ]
  },
  {
   "cell_type": "code",
   "execution_count": 52,
   "metadata": {},
   "outputs": [
    {
     "name": "stdout",
     "output_type": "stream",
     "text": [
      "1\n"
     ]
    },
    {
     "data": {
      "text/plain": [
       "[None]"
      ]
     },
     "execution_count": 52,
     "metadata": {},
     "output_type": "execute_result"
    }
   ],
   "source": [
    "(print ((S K K) 1))"
   ]
  },
  {
   "cell_type": "code",
   "execution_count": 53,
   "metadata": {},
   "outputs": [
    {
     "name": "stdout",
     "output_type": "stream",
     "text": [
      "(λc.(((λa.(λb.a)) c) ((λa.(λb.a)) c)))\n"
     ]
    },
    {
     "data": {
      "text/plain": [
       "[None]"
      ]
     },
     "execution_count": 53,
     "metadata": {},
     "output_type": "execute_result"
    }
   ],
   "source": [
    "(print (S K K))"
   ]
  },
  {
   "cell_type": "code",
   "execution_count": 54,
   "metadata": {},
   "outputs": [
    {
     "name": "stdout",
     "output_type": "stream",
     "text": [
      "(λc.(((λa.(λb.a)) c) ((λa.(λb.(λc.((a c) (b c))))) c)))\n"
     ]
    },
    {
     "data": {
      "text/plain": [
       "[None]"
      ]
     },
     "execution_count": 54,
     "metadata": {},
     "output_type": "execute_result"
    }
   ],
   "source": [
    "(print (S K S))"
   ]
  },
  {
   "cell_type": "code",
   "execution_count": 55,
   "metadata": {},
   "outputs": [
    {
     "data": {
      "text/plain": [
       "[(λc.(((λa.(λb.a)) c) ((λa.(λb.(λc.((a c) (b c))))) c)))]"
      ]
     },
     "execution_count": 55,
     "metadata": {},
     "output_type": "execute_result"
    }
   ],
   "source": [
    "(S K S)"
   ]
  },
  {
   "cell_type": "code",
   "execution_count": 19,
   "metadata": {},
   "outputs": [
    {
     "name": "stdout",
     "output_type": "stream",
     "text": [
      "1\n"
     ]
    },
    {
     "data": {
      "text/plain": [
       "[None]"
      ]
     },
     "execution_count": 19,
     "metadata": {},
     "output_type": "execute_result"
    }
   ],
   "source": [
    "(print 1)"
   ]
  },
  {
   "cell_type": "code",
   "execution_count": 49,
   "metadata": {},
   "outputs": [
    {
     "name": "stderr",
     "output_type": "stream",
     "text": [
      "\u001b[1;31mTraceback (most recent call last):\n",
      "  File \"C:\\Users\\phtep\\Anaconda3\\lib\\site-packages\\calysto_hy\\kernel.py\", line 137, in do_execute_direct\n",
      "    eval(code, self.env)\n",
      "  File \"In [49]\", line 1, in <module>\n",
      "TypeError: not enough arguments for format string\n",
      "\n",
      "\u001b[0m"
     ]
    }
   ],
   "source": [
    "(%\"%s%s\"[1 2])"
   ]
  },
  {
   "cell_type": "code",
   "execution_count": 1,
   "metadata": {},
   "outputs": [
    {
     "data": {
      "text/plain": [
       "[None, <function _hy_anon_var_12 at 0x0000014E6731CE18>]"
      ]
     },
     "execution_count": 1,
     "metadata": {},
     "output_type": "execute_result"
    }
   ],
   "source": [
    "(eval-and-compile(defn A[x](instance? F x))(defn B[x](if(coll? x)(%\"(%s)\"(.join\" \"(map B x)))(str x)))(defn C[x](if(and(coll? x)(not(A x)))(B(map str(map C x)))x))(defn D[x y](while(and(callable x)y)(setv x(x(.pop y 0))))(if y(doto x(.extend y))x))(defn E[x](if(coll? x)(if(A(first x))(D(first x)(list(rest x)))(if(A x)x(do(setv y(list(map E x)))(if(A(first y))(E y)y))))x))(defclass F[list](defn --repr--[self](%\"(λ%s.%s)\"(,(first self)(C(second self)))))(defn --call--[self x &rest y](setv v((fn[z](if y(D z(list y))z))(E((last self)x))))(if(A v)v(B v)))))(defmacro L[&rest x](reduce(fn[y z]`((fn[](setv ~z(str'~z))(F['~z ~y(fn[~z]~y)]))))(doto(list x).reverse)))"
   ]
  },
  {
   "cell_type": "code",
   "execution_count": 2,
   "metadata": {},
   "outputs": [
    {
     "data": {
      "text/plain": [
       "[None]"
      ]
     },
     "execution_count": 2,
     "metadata": {},
     "output_type": "execute_result"
    }
   ],
   "source": [
    "(setv S (L a b c [[a c][b c]])\n",
    "      K (L a b a)\n",
    "      THREE (L a b [a [a [a b]]]))"
   ]
  },
  {
   "cell_type": "code",
   "execution_count": 3,
   "metadata": {},
   "outputs": [
    {
     "name": "stdout",
     "output_type": "stream",
     "text": [
      "(a (a (a b)))\n"
     ]
    },
    {
     "data": {
      "text/plain": [
       "[None]"
      ]
     },
     "execution_count": 3,
     "metadata": {},
     "output_type": "execute_result"
    }
   ],
   "source": [
    "(print (THREE 'a 'b))"
   ]
  },
  {
   "cell_type": "code",
   "execution_count": 4,
   "metadata": {},
   "outputs": [
    {
     "name": "stdout",
     "output_type": "stream",
     "text": [
      "(λc.(((λa.(λb.a)) c) ((λa.(λb.a)) c)))\n"
     ]
    },
    {
     "data": {
      "text/plain": [
       "[None]"
      ]
     },
     "execution_count": 4,
     "metadata": {},
     "output_type": "execute_result"
    }
   ],
   "source": [
    "(print (S K K))"
   ]
  },
  {
   "cell_type": "code",
   "execution_count": 5,
   "metadata": {},
   "outputs": [
    {
     "name": "stdout",
     "output_type": "stream",
     "text": [
      "1\n"
     ]
    },
    {
     "data": {
      "text/plain": [
       "[None]"
      ]
     },
     "execution_count": 5,
     "metadata": {},
     "output_type": "execute_result"
    }
   ],
   "source": [
    "(print ((S K K) 1))"
   ]
  },
  {
   "cell_type": "code",
   "execution_count": 7,
   "metadata": {},
   "outputs": [
    {
     "name": "stderr",
     "output_type": "stream",
     "text": [
      "\u001b[1;31mTraceback (most recent call last):\n",
      "  File \"C:\\Users\\phtep\\Anaconda3\\lib\\site-packages\\calysto_hy\\kernel.py\", line 137, in do_execute_direct\n",
      "    eval(code, self.env)\n",
      "  File \"In [7]\", line 1, in <module>\n",
      "TypeError: len() takes exactly one argument (2 given)\n",
      "\n",
      "\u001b[0m"
     ]
    }
   ],
   "source": [
    "(len '(eval-and-compile(defn A[x](instance? F x))(defn B[x](if(coll? x)(%\"(%s)\"(.join\" \"(map B x)))(str x)))(defn C[x](if(and(coll? x)(not(A x)))(B(map str(map C x)))x))(defn D[x y](while(and(callable x)y)(setv x(x(.pop y 0))))(if y(doto x(.extend y))x))(defn E[x](if(coll? x)(if(A(first x))(D(first x)(list(rest x)))(if(A x)x(do(setv y(list(map E x)))(if(A(first y))(E y)y))))x))(defclass F[list](defn --repr--[self](%\"(λ%s.%s)\"(,(first self)(C(second self)))))(defn --call--[self x &rest y](setv v((fn[z](if y(D z(list y))z))(E((last self)x))))(if(A v)v(B v)))))(defmacro L[&rest x](reduce(fn[y z]`((fn[](setv ~z(str'~z))(F['~z ~y(fn[~z]~y)]))))(doto(list x).reverse))))"
   ]
  },
  {
   "cell_type": "code",
   "execution_count": null,
   "metadata": {
    "collapsed": true
   },
   "outputs": [],
   "source": []
  }
 ],
 "metadata": {
  "kernelspec": {
   "display_name": "Calysto Hy",
   "language": "hy",
   "name": "calysto_hy"
  },
  "language_info": {
   "codemirror_mode": {
    "name": "scheme"
   },
   "mimetype": "text/x-hylang",
   "name": "hy",
   "pygments_lexer": "lisp"
  }
 },
 "nbformat": 4,
 "nbformat_minor": 2
}
